{
 "cells": [
  {
   "cell_type": "code",
   "execution_count": 1,
   "id": "cc79bf8a",
   "metadata": {},
   "outputs": [
    {
     "name": "stdout",
     "output_type": "stream",
     "text": [
      "enter d:56\n",
      "your steering arm length: 265.77789876314966 your tie rod length: 270.65242126440705\n"
     ]
    },
    {
     "name": "stderr",
     "output_type": "stream",
     "text": [
      "C:\\Users\\SUSHANTH BANGERA\\anaconda3\\lib\\site-packages\\scipy\\optimize\\minpack.py:175: RuntimeWarning: The iteration is not making good progress, as measured by the \n",
      "  improvement from the last ten iterations.\n",
      "  warnings.warn(msg, RuntimeWarning)\n"
     ]
    }
   ],
   "source": [
    "from numpy import *\n",
    "from scipy.optimize import *\n",
    "d=float(input(\"enter d:\"))\n",
    "#x=int(input(\"enter x:\"))\n",
    "def myfunction(q):\n",
    "    x=q[0]\n",
    "    y=q[1]\n",
    "    F=empty((2))\n",
    "    F[0]=-y**2-((196-x*(sin(39.46525*0.0174533)))**2+(475.756-150-d-x*(cos(39.46525*0.0174533)))**2)\n",
    "    F[1]=y**2-((196-x*(sin(89.715*0.0174533)))**2+(475.756-150+d-x*(cos(89.715*0.0174533)))**2)\n",
    "    return F\n",
    "zguess=array([100,400])\n",
    "q=fsolve(myfunction,zguess)\n",
    "print(\"your steering arm length:\",q[0],\"your tie rod length:\",q[1])\n",
    "    "
   ]
  },
  {
   "cell_type": "code",
   "execution_count": null,
   "id": "9ddf0b4d",
   "metadata": {},
   "outputs": [],
   "source": []
  },
  {
   "cell_type": "code",
   "execution_count": null,
   "id": "bc2bbfe2",
   "metadata": {},
   "outputs": [],
   "source": []
  }
 ],
 "metadata": {
  "kernelspec": {
   "display_name": "Python 3 (ipykernel)",
   "language": "python",
   "name": "python3"
  },
  "language_info": {
   "codemirror_mode": {
    "name": "ipython",
    "version": 3
   },
   "file_extension": ".py",
   "mimetype": "text/x-python",
   "name": "python",
   "nbconvert_exporter": "python",
   "pygments_lexer": "ipython3",
   "version": "3.9.7"
  }
 },
 "nbformat": 4,
 "nbformat_minor": 5
}
